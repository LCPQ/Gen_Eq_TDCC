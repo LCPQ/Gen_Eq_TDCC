{
 "cells": [
  {
   "cell_type": "code",
   "execution_count": 2,
   "id": "a12fa0ba",
   "metadata": {},
   "outputs": [],
   "source": [
    "import pdaggerq\n",
    "import sys\n",
    "sys.path.append('#PATH_TO_SimpleWick')\n",
    "import wick as w\n",
    "import copy\n",
    "import interface_pdaggerq as ipq\n",
    "from IPython.display import display, Latex\n",
    "\n",
    "# Don't forget to kill/reload after changes in interface_pdaggerq or SimpleWick..."
   ]
  },
  {
   "cell_type": "code",
   "execution_count": 3,
   "id": "eb16f517",
   "metadata": {},
   "outputs": [],
   "source": [
    "# T limited to single and double excitations\n",
    "max_rank_t = 2\n",
    "# Indices used for the active orbitals\n",
    "list_act_idx = ['m','n']\n",
    "# alpha/beta spin\n",
    "spin = ['a','b']"
   ]
  },
  {
   "cell_type": "markdown",
   "id": "5eb44041",
   "metadata": {},
   "source": [
    "# TD CC\n",
    "## T1 equations\n",
    "$$Q_i^a(A) = (<A_i^a| e^{^AT}|A>)_c - (<A_i^a|e^{^BT}|B> H_{BA}^{\\text{eff}})_c $$"
   ]
  },
  {
   "cell_type": "markdown",
   "id": "c3b71779",
   "metadata": {},
   "source": [
    "In the following block, one can see a list:\n",
    "```\n",
    "A_ia = ['in+aa','im+ba','am-aa','an-ba','@(oi)i+@(si)i','@(oa)a-@(sa)i']\n",
    "```\n",
    "It's a string of second quantized operators defined for SimpleWick. \n",
    "The format is explained in the documentation of SimpleWick.\n",
    "In addition, the 'ipq.monoK_eTL_L' function will replace '@(oi)' by the \n",
    "two possible occupancies, similarly for '@(oa)'. A similar treatment is also \n",
    "done with '@(si)' and '(@sa)' for the spin.\n",
    "\n",
    "So, 'A_ia' is just $\\hat{n}_{i_\\alpha}^\\dagger \\hat{m}_{i_\\beta}^\\dagger \\hat{m}_{a_\\alpha}^{} \\hat{n}_{a_\\beta}^{} \\hat{i}_{}^\\dagger \\hat{a}_{}^{}$, where $\\hat{i}$ and $\\hat{a}$ will take all the \n",
    "possible combinations of occupancy and spin.\n",
    "\n",
    "Then, the 'ipq.monoK_eTL_L' function is applying Wick's theorem and calling $p^\\dagger q$.\n",
    "The results are stored in 'A_ia_eTB_B' (literally $<A_i^a | e^{^B\\hat{T}} | B>$) depending on the spin of $i$ and $a$.\n",
    "After that, we run over the different spins of $i$ and $a$ to:\n",
    "1. remove the terms that are not connected with the effective Hamiltonian, i.e., those with an amplitude that does not contain any active label\n",
    "2. spin flip the amplitudes related to $B$ to keep $A$ as reference\n",
    "3. factorize the terms\n",
    "4. sort the terms with respect to $t_1$\n",
    "5. generate fortran code for each spin case\n",
    "\n",
    "Fortran code:\n",
    "\n",
    "You can generate fortran code by removing the # in front of obj.gen_fortran...\n",
    "\n",
    "As you can see there are lot of indices in the fortran code. \n",
    "1. 'ia', 'ib', 'aa', 'ab': indices to loop over the spin orbitals $i_\\alpha,i_\\beta,a_\\alpha,a_\\beta$\n",
    "2. 'ma', 'mb', 'na', 'nb': indices of the active spin orbitals $m_\\alpha,m_\\beta,n_\\alpha,n_\\beta$\n",
    "3. 'cc_nOa', 'cc_nVa': number of occupied and virtual alpha spin orbitals. Since in our software the orbitals\n",
    "are ordered as: alpha occupied, beta occupied, alpha virtual, beta virtual, we can compute the indice of $i_\\beta$ based on $i_\\alpha$, as 'ib = ia + cc_nOa'\n",
    "4. 'i_ia', 'f_ia': indice of the first and last occupied alpha spin orbital\n",
    "5. 'i_ib', 'f_ib': same for occupied beta spin orbital\n",
    "6. 'i_aa', 'f_aa': same for virtual alpha spin orbital\n",
    "7. 'i_ab', 'f_ab': same for virtual beta spin orbital\n",
    "\n",
    "In order to generate the expressions \"i,j,a,b\" have been hard coded at some points in the code for the functions \"ordered_by_t1\" and \"reverse_order_deltas\". That's not a big deal but these functions will not work with other labels. For the fortran code generation, a significant number of functions use them so it will not work with other labels. Nevertheless the code can be easily changed for that.\n",
    "\n"
   ]
  },
  {
   "cell_type": "markdown",
   "id": "8c4755b0",
   "metadata": {},
   "source": [
    "### Calculation of $-<A_i^a|e^{^BT}|B>$"
   ]
  },
  {
   "cell_type": "code",
   "execution_count": 4,
   "id": "28ee08bf",
   "metadata": {
    "scrolled": false
   },
   "outputs": [],
   "source": [
    "A_ia = ['in+aa','im+ba','am-aa','an-ba','@(oi)i+@(si)i','@(oa)a-@(sa)i']\n",
    "A_ia_eTB_B = ipq.monoK_eTL_L(-1.0,A_ia,'B',max_rank_t)\n",
    "\n",
    "for i in range(len(spin)):\n",
    "    si = spin[i]\n",
    "    for a in range(len(spin)):\n",
    "        sa = spin[a]\n",
    "        obj = A_ia_eTB_B[i][a]\n",
    "        obj.remove_disconnected()\n",
    "        obj.spin_flip('B','A')\n",
    "        obj.reverse_deltas_order()\n",
    "        obj.factorize()\n",
    "        obj.ordered_by_t1()\n",
    "        #print(\"\\\\begin{equation}\\n\\\\begin{split}\")\n",
    "        null = ipq.print_contrib_M1(si,sa,len(obj.terms))\n",
    "        obj.show_tex_factorized()\n",
    "        #print(\"\\\\end{split}\\n\\\\end{equation}\")\n",
    "        #obj.gen_fortran_M1(si,sa,'A')"
   ]
  },
  {
   "cell_type": "markdown",
   "id": "15055f14",
   "metadata": {},
   "source": [
    "## T2 equations\n",
    "$Q_{ij}^{ab} = (<A_{ij}^{ab}| e^{^AT}|A>)_c - (<A_{ij}^{ab}| e^{^BT}|B> H_{BA}^{\\text{eff}})_c \n",
    "- P(ij,ab) \\ [ (^At_i^a - R_{ia} \\ ^Bt_i^a) \\ (<A_j^b|e^{^BT}|B> H_{BA}^{\\text{eff}})_c ] \\\\\n",
    "= (<A_{ij}^{ab}| e^{^AT}A>)_c + M_{ij}^{ab} H_{BA}^{\\text{eff}} $\n"
   ]
  },
  {
   "cell_type": "markdown",
   "id": "f5ffdef4",
   "metadata": {},
   "source": [
    "### Calculation of $-<A_{ij}^{ab}|e^{^BT}|B>$"
   ]
  },
  {
   "cell_type": "code",
   "execution_count": 18,
   "id": "100f3847",
   "metadata": {
    "scrolled": true
   },
   "outputs": [],
   "source": [
    "A_ijab = ['in+aa','im+ba','am-aa','an-ba','@(oi)i+@(si)i','@(oj)j+@(sj)i','@(ob)b-@(sb)i','@(oa)a-@(sa)i']\n",
    "A_ijab_eTB_B = ipq.doubleK_eTL_L(-1.0,A_ijab,'B',max_rank_t)\n",
    "spin = ['a','b']\n",
    "for i in range(len(spin)):\n",
    "    si = spin[i]\n",
    "    for j in range(len(spin)):\n",
    "        sj = spin[j]\n",
    "        for a in range(len(spin)):\n",
    "            sa = spin[a]\n",
    "            for b in range(len(spin)):\n",
    "                sb = spin[b]\n",
    "                obj = A_ijab_eTB_B[i][j][a][b]\n",
    "                obj.remove_disconnected()\n",
    "                obj.spin_flip('B','A')\n",
    "                obj.reverse_deltas_order()\n",
    "                obj.factorize()\n",
    "                obj.ordered_by_t1()\n",
    "                #null = ipq.print_contrib_M2(si,sj,sa,sb,len(obj.terms))\n",
    "                #obj.show_tex_factorized()\n",
    "                "
   ]
  },
  {
   "cell_type": "markdown",
   "id": "a4ba230d",
   "metadata": {},
   "source": [
    "### Calculation of $<A_i^a | e^{^AT} | A >$"
   ]
  },
  {
   "cell_type": "markdown",
   "id": "fb874fad",
   "metadata": {},
   "source": [
    "For that we compute $^At_i^A$ for the cases where zero, one or two of the indices are active ($n$ or $m$, with or without bar).\n",
    "\n",
    "- ipq.T creates a t with some label and spin.\n",
    "- ipq.Term creates a ensemble of a kronecker delta, a factor and a t.\n",
    "- obj.append_Term append the Term to the object obj"
   ]
  },
  {
   "cell_type": "code",
   "execution_count": 5,
   "id": "787ad58f",
   "metadata": {
    "scrolled": false
   },
   "outputs": [],
   "source": [
    "A_ia_eTA_A = [[ipq.LTerms() for i in spin] for a in spin]\n",
    "\n",
    "for i in range(len(spin)):\n",
    "    si = spin[i]\n",
    "    for a in range(len(spin)):\n",
    "        sa = spin[a]\n",
    "        obj = A_ia_eTA_A[i][a]\n",
    "        if si == sa:\n",
    "            t = ipq.T(['i'+si,'a'+sa],'A',list_act_idx)\n",
    "            obj.append_Term(ipq.Term([],1.0,[t]))\n",
    "        \n",
    "        obj.factorize()\n",
    "        #obj.show_tex_factorized()\n",
    "\n",
    "# t_ia^na\n",
    "obj = A_ia_eTA_A[0][0]\n",
    "t = ipq.T(['ia','na'],'A',list_act_idx)\n",
    "obj.append_Term(ipq.Term([['na','aa']],1.0,[t]))\n",
    "obj.factorize()\n",
    "#obj.show_tex_factorized()\n",
    "\n",
    "# t_ib^ab\n",
    "obj = A_ia_eTA_A[1][1]\n",
    "t = ipq.T(['ib','mb'],'A',list_act_idx)\n",
    "obj.append_Term(ipq.Term([['mb','ab']],1.0,[t]))\n",
    "obj.factorize()\n",
    "#obj.show_tex_factorized()\n",
    "\n",
    "# t_ma^aa\n",
    "obj = A_ia_eTA_A[0][0]\n",
    "t = ipq.T(['ma','aa'],'A',list_act_idx)\n",
    "obj.append_Term(ipq.Term([['ma','ia']],1.0,[t]))\n",
    "obj.factorize()\n",
    "#obj.show_tex_factorized()\n",
    "\n",
    "# t_nb^ab\n",
    "obj = A_ia_eTA_A[1][1]\n",
    "t = ipq.T(['nb','ab'],'A',list_act_idx)\n",
    "obj.append_Term(ipq.Term([['nb','ib']],1.0,[t]))\n",
    "obj.factorize()\n",
    "#obj.show_tex_factorized()\n",
    "\n",
    "# t_ma^na\n",
    "obj = A_ia_eTA_A[0][0]\n",
    "t = ipq.T(['ma','na'],'A',list_act_idx)\n",
    "obj.append_Term(ipq.Term([['ma','ia'],['na','aa']],1.0,[t]))\n",
    "obj.factorize()\n",
    "#obj.show_tex_factorized()\n",
    "\n",
    "# t_nb^mb\n",
    "obj = A_ia_eTA_A[1][1]\n",
    "t = ipq.T(['nb','mb'],'A',list_act_idx)\n",
    "obj.append_Term(ipq.Term([['nb','ib'],['mb','ab']],1.0,[t]))\n",
    "obj.factorize()\n",
    "#obj.show_tex_factorized()\n",
    "\n",
    "# t_alpha^alpha \n",
    "print(\"t_alpha^alpha:\")\n",
    "obj = A_ia_eTA_A[0][0]\n",
    "obj.factorize()\n",
    "obj.show_tex_factorized()\n",
    "\n",
    "# t_beta^beta \n",
    "print(\"t_beta^beta:\")\n",
    "obj = A_ia_eTA_A[1][1]\n",
    "obj.factorize()\n",
    "obj.show_tex_factorized()"
   ]
  },
  {
   "cell_type": "markdown",
   "id": "d5d68426",
   "metadata": {},
   "source": [
    "Here, we apply the permutation operators $P_{ij}$, $P_{ab}$, $P_{ij}$ $P_{ab}$ on the latter quantities.\n",
    "\n",
    "- apply_permutation apply a permutation ont the t and the kronecker deltas with a factor."
   ]
  },
  {
   "cell_type": "code",
   "execution_count": 6,
   "id": "330dde26",
   "metadata": {},
   "outputs": [],
   "source": [
    "# Permutations\n",
    "A_ja_eTA_A = [[ipq.LTerms() for i in spin] for a in spin]\n",
    "A_ib_eTA_A = [[ipq.LTerms() for i in spin] for a in spin]\n",
    "A_jb_eTA_A = [[ipq.LTerms() for i in spin] for a in spin]\n",
    "\n",
    "for i in range(len(spin)):\n",
    "    for a in range(len(spin)):\n",
    "        A_ja_eTA_A[i][a] = copy.deepcopy(A_ia_eTA_A[i][a])\n",
    "        A_ja_eTA_A[i][a].apply_permutation(1.0,[['i','j']])\n",
    "        A_ib_eTA_A[i][a] = copy.deepcopy(A_ia_eTA_A[i][a])\n",
    "        A_ib_eTA_A[i][a].apply_permutation(1.0,[['a','b']])\n",
    "        A_jb_eTA_A[i][a] = copy.deepcopy(A_ia_eTA_A[i][a])\n",
    "        A_jb_eTA_A[i][a].apply_permutation(1.0,[['i','j'],['a','b']])\n",
    "        "
   ]
  },
  {
   "cell_type": "markdown",
   "id": "5dd21993",
   "metadata": {},
   "source": [
    "We do a similar treatment for $^Bt_i^a$, but the orbitals cannot be active due to the $R_{ia}$ term"
   ]
  },
  {
   "cell_type": "code",
   "execution_count": 7,
   "id": "14178e0b",
   "metadata": {},
   "outputs": [],
   "source": [
    "B_ia_eTB_B = [[ipq.LTerms() for i in spin] for a in spin]\n",
    "B_ja_eTB_B = [[ipq.LTerms() for i in spin] for a in spin]\n",
    "B_ib_eTB_B = [[ipq.LTerms() for i in spin] for a in spin]\n",
    "B_jb_eTB_B = [[ipq.LTerms() for i in spin] for a in spin]\n",
    "\n",
    "for i in range(len(spin)):\n",
    "    si = spin[i]\n",
    "    for a in range(len(spin)):\n",
    "        sa = spin[a]\n",
    "        obj = B_ia_eTB_B[i][a]\n",
    "        if si == sa:\n",
    "            t = ipq.T(['i'+si,'a'+sa],'B',list_act_idx)\n",
    "            obj.append_Term(ipq.Term([],1.0,[t])) \n",
    "        obj.spin_flip('B','A')\n",
    "        obj.factorize()\n",
    "        obj.show_tex_factorized()\n"
   ]
  },
  {
   "cell_type": "markdown",
   "id": "322ff6a4",
   "metadata": {},
   "source": [
    "Here we apply the permutation operators as for $^At_i^a$"
   ]
  },
  {
   "cell_type": "code",
   "execution_count": 8,
   "id": "a1aa68de",
   "metadata": {},
   "outputs": [],
   "source": [
    "# Permutations\n",
    "B_ja_eTB_B = [[ipq.LTerms() for i in spin] for a in spin]\n",
    "B_ib_eTB_B = [[ipq.LTerms() for i in spin] for a in spin]\n",
    "B_jb_eTB_B = [[ipq.LTerms() for i in spin] for a in spin]\n",
    "\n",
    "for i in range(len(spin)):\n",
    "    for a in range(len(spin)):\n",
    "        #print(i,a)\n",
    "        #print('ja')\n",
    "        B_ja_eTB_B[i][a] = copy.deepcopy(B_ia_eTB_B[i][a])\n",
    "        B_ja_eTB_B[i][a].apply_permutation(1.0,[['i','j']])\n",
    "        obj = B_ja_eTB_B[i][a]\n",
    "        obj.factorize()\n",
    "        obj.ordered_by_t1()\n",
    "        #obj.show_tex_factorized()\n",
    "        #print('ib')\n",
    "        B_ib_eTB_B[i][a] = copy.deepcopy(B_ia_eTB_B[i][a])\n",
    "        B_ib_eTB_B[i][a].apply_permutation(1.0,[['a','b']])\n",
    "        obj = B_ib_eTB_B[i][a]\n",
    "        obj.factorize()\n",
    "        obj.ordered_by_t1()\n",
    "        #obj.show_tex_factorized()\n",
    "        #print('jb')\n",
    "        B_jb_eTB_B[i][a] = copy.deepcopy(B_ia_eTB_B[i][a])\n",
    "        B_jb_eTB_B[i][a].apply_permutation(1.0,[['i','j'],['a','b']])\n",
    "        obj = B_jb_eTB_B[i][a]\n",
    "        obj.factorize()\n",
    "        obj.ordered_by_t1()\n",
    "        obj.show_tex_factorized()\n",
    "        "
   ]
  },
  {
   "cell_type": "markdown",
   "id": "2f9c0791",
   "metadata": {},
   "source": [
    "### Calculation of $<A_j^b|e^{T(B)}|B>$"
   ]
  },
  {
   "cell_type": "code",
   "execution_count": 9,
   "id": "2bbaad0e",
   "metadata": {
    "scrolled": true
   },
   "outputs": [],
   "source": [
    "A_jb = ['in+aa','im+ba','am-aa','an-ba','@(oi)j+@(si)i','@(oa)b-@(sa)i']\n",
    "\n",
    "A_jb_eTB_B = ipq.monoK_eTL_L(1.0,A_jb,'B',max_rank_t)\n",
    "\n",
    "for i in range(len(spin)):\n",
    "    si = spin[i]\n",
    "    for a in range(len(spin)):\n",
    "        sa = spin[a]\n",
    "        obj = A_jb_eTB_B[i][a]\n",
    "        obj.remove_disconnected()\n",
    "        obj.spin_flip('B','A')\n",
    "        obj.factorize()\n",
    "        obj.ordered_by_t1()\n",
    "        #obj.show_tex_factorized()"
   ]
  },
  {
   "cell_type": "markdown",
   "id": "c2108ca3",
   "metadata": {},
   "source": [
    "### Calculation of its permutations of $<A_j^b|e^{T(B)}|B>$:\n",
    "$<A_j^a|e^{T(B)}|B>$, $<A_i^b|e^{T(B)}|B>$, $<A_i^a|e^{T(B)}|B>$"
   ]
  },
  {
   "cell_type": "code",
   "execution_count": 10,
   "id": "b1ecb997",
   "metadata": {
    "scrolled": true
   },
   "outputs": [],
   "source": [
    "# Permutations\n",
    "A_ja_eTB_B = [[ipq.LTerms() for j in spin] for b in spin]\n",
    "A_ib_eTB_B = [[ipq.LTerms() for j in spin] for b in spin]\n",
    "A_ia_eTB_B = [[ipq.LTerms() for j in spin] for b in spin]\n",
    "\n",
    "for j in range(len(spin)):\n",
    "    for b in range(len(spin)):\n",
    "        A_ja_eTB_B[j][b] = copy.deepcopy(A_jb_eTB_B[j][b])\n",
    "        A_ja_eTB_B[j][b].apply_permutation(1.0,[['a','b']])\n",
    "        A_ib_eTB_B[j][b] = copy.deepcopy(A_jb_eTB_B[j][b])\n",
    "        A_ib_eTB_B[j][b].apply_permutation(1.0,[['i','j']])\n",
    "        A_ia_eTB_B[j][b] = copy.deepcopy(A_jb_eTB_B[j][b])\n",
    "        A_ia_eTB_B[j][b].apply_permutation(1.0,[['i','j'],['a','b']])\n",
    "        \n",
    "        obj = A_jb_eTB_B[j][b]\n",
    "        obj.remove_disconnected()\n",
    "        obj.spin_flip('B','A')\n",
    "        obj.factorize()\n",
    "        obj.ordered_by_t1()\n",
    "        obj.show_tex_factorized()\n",
    "        "
   ]
  },
  {
   "cell_type": "markdown",
   "id": "52f5dd6d",
   "metadata": {},
   "source": [
    "### Calculation of $- P(ij,ab) \\ ^At_i^a <A_j^b|e^{^BT}|B>$.\n",
    "\n",
    "- obj.prod_LTerms produces the products of two lists of Terms with a prefactor and add them to the list of Terms\n",
    "already present in the object obj.\n",
    "\n",
    "You can notice that we are in fact computing $+ P(ij,ab) \\ ^At_i^a <A_j^b|e^{^BT}|B>$ and similarly computing $- P(ij,ab) \\ ^At_i^a <A_j^b|e^{^BT}|B>$. It comes from the fact that with a global sign difference on the disconnected, and we need to do that to recover the right formula."
   ]
  },
  {
   "cell_type": "code",
   "execution_count": 12,
   "id": "e453e376",
   "metadata": {
    "scrolled": true
   },
   "outputs": [],
   "source": [
    "A = [[[[ipq.LTerms() for i in spin] for j in spin] for a in spin] for b in spin]\n",
    "for i in range(len(spin)):\n",
    "    si = spin[i]\n",
    "    for j in range(len(spin)):\n",
    "        sj = spin[j]\n",
    "        for a in range(len(spin)):\n",
    "            sa = spin[a]\n",
    "            for b in range(len(spin)):\n",
    "                sb = spin[b]\n",
    "                \n",
    "                A[i][j][a][b] = ipq.LTerms()\n",
    "                obj = A[i][j][a][b]\n",
    "                obj.prod_LTerms(+1,A_ia_eTA_A[i][a],A_jb_eTB_B[j][b])\n",
    "                obj.prod_LTerms(-1,A_ja_eTA_A[j][a],A_ib_eTB_B[i][b])\n",
    "                obj.prod_LTerms(-1,A_ib_eTA_A[i][b],A_ja_eTB_B[j][a])\n",
    "                obj.prod_LTerms(+1,A_jb_eTA_A[j][b],A_ia_eTB_B[i][a])\n",
    "                \n",
    "                obj.spin_flip('B','A')\n",
    "                obj.reverse_deltas_order()\n",
    "                obj.factorize()\n",
    "                obj.ordered_by_t1()\n",
    "                #null = ipq.print_contrib_M2(si,sj,sa,sb,len(obj.terms))\n",
    "                #obj.show_tex_factorized()\n",
    "                "
   ]
  },
  {
   "cell_type": "markdown",
   "id": "430d670d",
   "metadata": {},
   "source": [
    "### Calculation of   $+ P(ij,ab) \\ R_{ia} \\ ^Bt_i^a <A_j^b|e^{^BT}|B>$"
   ]
  },
  {
   "cell_type": "code",
   "execution_count": 13,
   "id": "27a5d2ab",
   "metadata": {
    "scrolled": true
   },
   "outputs": [],
   "source": [
    "B = [[[[ipq.LTerms() for i in spin] for j in spin] for a in spin] for b in spin]\n",
    "for i in range(len(spin)):\n",
    "    si = spin[i]\n",
    "    for j in range(len(spin)):\n",
    "        sj = spin[j]\n",
    "        for a in range(len(spin)):\n",
    "            sa = spin[a]\n",
    "            for b in range(len(spin)):\n",
    "                sb = spin[b]\n",
    "                \n",
    "                B[i][j][a][b] = ipq.LTerms()\n",
    "                obj = B[i][j][a][b]\n",
    "                obj.prod_LTerms(-1,B_ia_eTB_B[i][a],A_jb_eTB_B[j][b])\n",
    "                obj.prod_LTerms(+1,B_ja_eTB_B[j][a],A_ib_eTB_B[i][b])\n",
    "                obj.prod_LTerms(+1,B_ib_eTB_B[i][b],A_ja_eTB_B[j][a])\n",
    "                obj.prod_LTerms(-1,B_jb_eTB_B[j][b],A_ia_eTB_B[i][a])\n",
    "                \n",
    "                obj.spin_flip('B','A')\n",
    "                obj.reverse_deltas_order()\n",
    "                obj.factorize()\n",
    "                obj.ordered_by_t1()\n",
    "                #null = ipq.print_contrib_M2(si,sj,sa,sb,len(obj.terms))\n",
    "                #obj.show_tex_factorized()\n",
    "\n"
   ]
  },
  {
   "cell_type": "markdown",
   "id": "73428958",
   "metadata": {},
   "source": [
    "# Calculation of $^AM_{ij}^{ab}$\n"
   ]
  },
  {
   "cell_type": "markdown",
   "id": "471dad02",
   "metadata": {},
   "source": [
    "## Disconnected contributions\n",
    "We call disconnected contributions the terms that are coming from \n",
    "$P(ij,ab) \\ [ (^At_i^a - R_{ia} \\ ^Bt_i^a) \\ (<A_j^b|e^{^BT}|B> H_{BA}^{\\text{eff}})_c$"
   ]
  },
  {
   "cell_type": "code",
   "execution_count": 16,
   "id": "2e6c5af6",
   "metadata": {
    "scrolled": true
   },
   "outputs": [],
   "source": [
    "M2 = [[[[ipq.LTerms() for i in spin] for j in spin] for a in spin] for b in spin]\n",
    "for i in range(len(spin)):\n",
    "    si = spin[i]\n",
    "    for j in range(len(spin)):\n",
    "        sj = spin[j]\n",
    "        for a in range(len(spin)):\n",
    "            sa = spin[a]\n",
    "            for b in range(len(spin)):\n",
    "                sb = spin[b]\n",
    "                \n",
    "                M2[i][j][a][b] = ipq.LTerms()\n",
    "                obj = M2[i][j][a][b]\n",
    "                obj.append_LTerms(A[i][j][a][b])\n",
    "                obj.append_LTerms(B[i][j][a][b])\n",
    "                \n",
    "                #obj.spin_flip('B','A')\n",
    "                obj.factorize()\n",
    "                obj.ordered_by_t1()\n",
    "                #print(\"\\\\begin{equation}\\n\\\\begin{split}\")\n",
    "                null = ipq.print_contrib_M2(si,sj,sa,sb,len(obj.terms))\n",
    "                obj.show_tex_factorized()\n",
    "                #print(\"\\\\end{split}\\n\\\\end{equation}\")\n",
    "                #obj.gen_fortran_M2_disconnected(si,sj,sa,sb,'A')"
   ]
  },
  {
   "cell_type": "markdown",
   "id": "eff45f55",
   "metadata": {},
   "source": [
    "## Connected contributions\n",
    "We call connected contribution the terms that are coming from $(<A_{ij}^{ab}| e^{^BT}|B> H_{BA}^{\\text{eff}})_c$"
   ]
  },
  {
   "cell_type": "code",
   "execution_count": 19,
   "id": "1b67aee8",
   "metadata": {},
   "outputs": [],
   "source": [
    "M2 = [[[[ipq.LTerms() for i in spin] for j in spin] for a in spin] for b in spin]\n",
    "for i in range(len(spin)):\n",
    "    si = spin[i]\n",
    "    for j in range(len(spin)):\n",
    "        sj = spin[j]\n",
    "        for a in range(len(spin)):\n",
    "            sa = spin[a]\n",
    "            for b in range(len(spin)):\n",
    "                sb = spin[b]\n",
    "                \n",
    "                M2[i][j][a][b] = ipq.LTerms()\n",
    "                obj = M2[i][j][a][b]\n",
    "                obj.append_LTerms(A_ijab_eTB_B[i][j][a][b])\n",
    "                \n",
    "                obj.spin_flip('B','A')\n",
    "                obj.factorize()\n",
    "                obj.ordered_by_t1()\n",
    "                #print(\"\\\\begin{equation}\\n\\\\begin{split}\")\n",
    "                null = ipq.print_contrib_M2(si,sj,sa,sb,len(obj.terms))\n",
    "                obj.show_tex_factorized()\n",
    "                #print(\"\\\\end{split}\\n\\\\end{equation}\")\n",
    "                #obj.gen_fortran_M2(si,sj,sa,sb,'A')\n"
   ]
  },
  {
   "cell_type": "code",
   "execution_count": null,
   "id": "d475d705",
   "metadata": {},
   "outputs": [],
   "source": []
  },
  {
   "cell_type": "code",
   "execution_count": null,
   "id": "c3a3a734",
   "metadata": {},
   "outputs": [],
   "source": []
  },
  {
   "cell_type": "code",
   "execution_count": null,
   "id": "015d77a6",
   "metadata": {},
   "outputs": [],
   "source": []
  }
 ],
 "metadata": {
  "kernelspec": {
   "display_name": "Python 3 (ipykernel)",
   "language": "python",
   "name": "python3"
  },
  "language_info": {
   "codemirror_mode": {
    "name": "ipython",
    "version": 3
   },
   "file_extension": ".py",
   "mimetype": "text/x-python",
   "name": "python",
   "nbconvert_exporter": "python",
   "pygments_lexer": "ipython3",
   "version": "3.7.11"
  }
 },
 "nbformat": 4,
 "nbformat_minor": 5
}
